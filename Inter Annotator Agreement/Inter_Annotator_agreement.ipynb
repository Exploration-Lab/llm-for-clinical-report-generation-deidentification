{
 "cells": [
  {
   "cell_type": "code",
   "execution_count": 20,
   "metadata": {},
   "outputs": [],
   "source": [
    "from sklearn.metrics import cohen_kappa_score\n",
    "import json\n",
    "import spacy\n",
    "from tqdm import tqdm\n",
    "import os"
   ]
  },
  {
   "cell_type": "markdown",
   "metadata": {},
   "source": [
    "### Inter-annotator agreement among human annotators"
   ]
  },
  {
   "cell_type": "code",
   "execution_count": 26,
   "metadata": {},
   "outputs": [],
   "source": [
    "def annotations_to_bio(text, annotations):\n",
    "    nlp = spacy.load(\"en_core_web_sm\")\n",
    "    doc = nlp(text)\n",
    "    \n",
    "    # Initialize BIO tags\n",
    "    bio_tags = ['O'] * len(doc)\n",
    "    \n",
    "    for entity in annotations:\n",
    "        label = entity['label']\n",
    "        start = entity['start_offset']\n",
    "        end = entity['end_offset']\n",
    "        \n",
    "        # Find tokens that overlap with the entity\n",
    "        for token in doc:\n",
    "            if start <= token.idx < end:\n",
    "                if token.idx == start:\n",
    "                    bio_tags[token.i] = 'B-' + label\n",
    "                else:\n",
    "                    bio_tags[token.i] = 'I-' + label\n",
    "    \n",
    "    # Combine tokens with BIO tags\n",
    "    bio_format = []\n",
    "    for token, tag in zip(doc, bio_tags):\n",
    "        bio_format.append((tag, token.text))\n",
    "    \n",
    "    return bio_format"
   ]
  },
  {
   "cell_type": "code",
   "execution_count": 27,
   "metadata": {},
   "outputs": [],
   "source": [
    "lalit_annotations = []\n",
    "with open('/project_resources/private_workspace/naimish/de-id-annotations/inter-annotator-aggrement/lalit.jsonl', 'r') as file:\n",
    "    for line in file:\n",
    "        data = json.loads(line)\n",
    "        bio_formatted = annotations_to_bio(data['text'], data['entities'])\n",
    "        lalit_annotations.append([tuple[0] for tuple in bio_formatted])"
   ]
  },
  {
   "cell_type": "code",
   "execution_count": 28,
   "metadata": {},
   "outputs": [],
   "source": [
    "vandana_annotations = []\n",
    "with open('/project_resources/private_workspace/naimish/de-id-annotations/inter-annotator-aggrement/vandana.jsonl', 'r') as file:\n",
    "    for line in file:\n",
    "        data = json.loads(line)\n",
    "        bio_formatted = annotations_to_bio(data['text'], data['entities'])\n",
    "        vandana_annotations.append([tuple[0] for tuple in bio_formatted])"
   ]
  },
  {
   "cell_type": "code",
   "execution_count": 29,
   "metadata": {},
   "outputs": [
    {
     "name": "stdout",
     "output_type": "stream",
     "text": [
      "Cohen's Kappa coefficient: 0.921\n"
     ]
    }
   ],
   "source": [
    "lalit_annotations_flattened = [label for doc in lalit_annotations for label in doc]\n",
    "vandana_annotations_flattened = [label for doc in vandana_annotations for label in doc]\n",
    "\n",
    "# Calculate Cohen's Kappa\n",
    "kappa = round(cohen_kappa_score(lalit_annotations_flattened , vandana_annotations_flattened),3)\n",
    "\n",
    "print(f\"Cohen's Kappa coefficient: {kappa}\")"
   ]
  },
  {
   "cell_type": "markdown",
   "metadata": {},
   "source": [
    "### Inter-annotator agreement among physician (Discharge summaries classified into Real/Synthetic)"
   ]
  },
  {
   "cell_type": "code",
   "execution_count": 21,
   "metadata": {},
   "outputs": [],
   "source": [
    "labels_user1 = []\n",
    "text_user1 = []\n",
    "with open('/project_resources/private_workspace/naimish/user1.jsonl', 'r') as file:\n",
    "    for line in file:\n",
    "        data = json.loads(line)\n",
    "        text_user1.append(data['text'])\n",
    "        labels_user1.append(data['label'][0])\n",
    "        \n",
    "path_to_folders = \"/project_resources/private_workspace/naimish/60_Sampled_discharge_summaries/Sampled_summaries/\"\n",
    "predicted_labels_user1 = {}\n",
    "files = os.listdir(path_to_folders)\n",
    "for file in files:\n",
    "    file_name = os.path.join(path_to_folders, file)\n",
    "    with open(file_name , 'r') as file:\n",
    "        file_contents = file.read()\n",
    "        predicted_labels_user1[file_name.split('/')[-1]] = labels_user1[text_user1.index(file_contents)]\n",
    "        \n",
    "predicted_labels_user1 = dict(sorted(predicted_labels_user1.items()))"
   ]
  },
  {
   "cell_type": "code",
   "execution_count": 22,
   "metadata": {},
   "outputs": [],
   "source": [
    "labels_user2 = []\n",
    "text_user2 = []\n",
    "with open('/project_resources/private_workspace/naimish/user2.jsonl', 'r') as file:\n",
    "    for line in file:\n",
    "        data = json.loads(line)\n",
    "        text_user2.append(data['text'])\n",
    "        labels_user2.append(data['label'][0])\n",
    "        \n",
    "path_to_folders = \"/project_resources/private_workspace/naimish/60_Sampled_discharge_summaries/Sampled_summaries/\"\n",
    "predicted_labels_user2 = {}\n",
    "files = os.listdir(path_to_folders)\n",
    "for file in files:\n",
    "    file_name = os.path.join(path_to_folders, file)\n",
    "    with open(file_name , 'r') as file:\n",
    "        file_contents = file.read()\n",
    "        predicted_labels_user2[file_name.split('/')[-1]] = labels_user2[text_user2.index(file_contents)]\n",
    "        \n",
    "predicted_labels_user2 = dict(sorted(predicted_labels_user2.items()))"
   ]
  },
  {
   "cell_type": "code",
   "execution_count": 24,
   "metadata": {},
   "outputs": [
    {
     "name": "stdout",
     "output_type": "stream",
     "text": [
      "Cohen's kappa coefficient: 0.29\n"
     ]
    }
   ],
   "source": [
    "kappa = round(cohen_kappa_score(list(predicted_labels_user1.values()),list(predicted_labels_user2.values())),3)\n",
    "print(f\"Cohen's kappa coefficient: {kappa}\")"
   ]
  }
 ],
 "metadata": {
  "kernelspec": {
   "display_name": "biobert_ft_virtualenv",
   "language": "python",
   "name": "python3"
  },
  "language_info": {
   "codemirror_mode": {
    "name": "ipython",
    "version": 3
   },
   "file_extension": ".py",
   "mimetype": "text/x-python",
   "name": "python",
   "nbconvert_exporter": "python",
   "pygments_lexer": "ipython3",
   "version": "3.10.12"
  }
 },
 "nbformat": 4,
 "nbformat_minor": 2
}
